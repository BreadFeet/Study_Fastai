{
 "cells": [
  {
   "cell_type": "markdown",
   "id": "0eb932e5",
   "metadata": {},
   "source": [
    "# Cat Breed Classifier"
   ]
  },
  {
   "cell_type": "code",
   "execution_count": null,
   "id": "202b35a6",
   "metadata": {},
   "outputs": [],
   "source": [
    "!jupyter serverextension enable --sys-prefix voila\n",
    "!jupyter nbextension enable --py widgetsnbextension"
   ]
  },
  {
   "cell_type": "code",
   "execution_count": 10,
   "id": "4285dc34",
   "metadata": {
    "ExecuteTime": {
     "end_time": "2024-12-28T00:52:12.595295Z",
     "start_time": "2024-12-28T00:51:51.934743Z"
    }
   },
   "outputs": [],
   "source": [
    "import ipywidgets as widgets\n",
    "from fastai.vision.all import *"
   ]
  },
  {
   "cell_type": "code",
   "execution_count": 13,
   "id": "ec25d2aa",
   "metadata": {
    "ExecuteTime": {
     "end_time": "2024-12-28T00:53:39.747296Z",
     "start_time": "2024-12-28T00:53:39.621624Z"
    }
   },
   "outputs": [],
   "source": [
    "learn_inf = load_learner('export.pkl')"
   ]
  },
  {
   "cell_type": "code",
   "execution_count": 14,
   "id": "55851bc5",
   "metadata": {
    "ExecuteTime": {
     "end_time": "2024-12-28T00:53:41.877431Z",
     "start_time": "2024-12-28T00:53:41.835125Z"
    }
   },
   "outputs": [],
   "source": [
    "out_pl = widgets.Output()\n",
    "btn_upload = widgets.FileUpload()\n",
    "lbl_pred = widgets.Label()\n",
    "\n",
    "def on_click_classify(change):\n",
    "    out_pl.clear_output()\n",
    "    img_bytes = btn_upload.value[0].content.tobytes()\n",
    "    with out_pl:\n",
    "        display(widgets.Image(value=img_bytes, height=128, width=128))\n",
    "        pred, pred_idx, probs = learn_inf.predict(img_bytes)\n",
    "        lbl_pred.value = f'Prediction: {pred}, Probability: {probs[pred_idx]:.4f}'\n",
    "        display(lbl_pred)\n",
    "btn_run = widgets.Button(description='Classify')\n",
    "btn_run.on_click(on_click_classify)  "
   ]
  },
  {
   "cell_type": "code",
   "execution_count": 15,
   "id": "43fd577a",
   "metadata": {
    "ExecuteTime": {
     "end_time": "2024-12-28T00:53:43.458862Z",
     "start_time": "2024-12-28T00:53:43.439683Z"
    }
   },
   "outputs": [
    {
     "data": {
      "application/vnd.jupyter.widget-view+json": {
       "model_id": "c41e33950a7c43e7a126eded14b3b625",
       "version_major": 2,
       "version_minor": 0
      },
      "text/plain": [
       "VBox(children=(Label(value='Select your cat pic!'), FileUpload(value=(), description='Upload'), Button(descrip…"
      ]
     },
     "execution_count": 15,
     "metadata": {},
     "output_type": "execute_result"
    }
   ],
   "source": [
    "widgets.VBox([\n",
    "    widgets.Label('Select your cat pic!'),\n",
    "    btn_upload,\n",
    "    btn_run,\n",
    "    out_pl\n",
    "], layout=widgets.Layout(width='300%'))"
   ]
  },
  {
   "cell_type": "code",
   "execution_count": null,
   "id": "e1057428",
   "metadata": {},
   "outputs": [],
   "source": [
    "# In terminal, run this code below.\n",
    "# voila App.ipynb\n",
    "# Then, it will show the link to the app such as 'http://localhost:8862'."
   ]
  }
 ],
 "metadata": {
  "kernelspec": {
   "display_name": "Python 3 (ipykernel)",
   "language": "python",
   "name": "python3"
  },
  "language_info": {
   "codemirror_mode": {
    "name": "ipython",
    "version": 3
   },
   "file_extension": ".py",
   "mimetype": "text/x-python",
   "name": "python",
   "nbconvert_exporter": "python",
   "pygments_lexer": "ipython3",
   "version": "3.9.17"
  },
  "toc": {
   "base_numbering": 1,
   "nav_menu": {},
   "number_sections": true,
   "sideBar": true,
   "skip_h1_title": false,
   "title_cell": "Table of Contents",
   "title_sidebar": "Contents",
   "toc_cell": false,
   "toc_position": {},
   "toc_section_display": true,
   "toc_window_display": false
  }
 },
 "nbformat": 4,
 "nbformat_minor": 5
}
